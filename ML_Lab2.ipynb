{
  "nbformat": 4,
  "nbformat_minor": 0,
  "metadata": {
    "colab": {
      "provenance": [],
      "include_colab_link": true
    },
    "kernelspec": {
      "name": "python3",
      "display_name": "Python 3"
    },
    "language_info": {
      "name": "python"
    }
  },
  "cells": [
    {
      "cell_type": "markdown",
      "metadata": {
        "id": "view-in-github",
        "colab_type": "text"
      },
      "source": [
        "<a href=\"https://colab.research.google.com/github/Surendragundabathula/ML-Lab/blob/main/ML_Lab2.ipynb\" target=\"_parent\"><img src=\"https://colab.research.google.com/assets/colab-badge.svg\" alt=\"Open In Colab\"/></a>"
      ]
    },
    {
      "cell_type": "markdown",
      "source": [
        "### **2 .For a given set of training data examples stored in a .CSV file implement and demonstrate the Candidate-Elimination algorithm to output a description of the set of all hypotheses consistent with the training examples.**"
      ],
      "metadata": {
        "id": "zjDW1v8Uunib"
      }
    },
    {
      "cell_type": "markdown",
      "source": [
        "### **Candidate Elimination Algorithm:**\n",
        "The Candidate Elimination Algorithm is a method for learning a concept from a set of positive and negative examples. It incrementally refines the hypothesis space by generalizing and specializing the hypotheses to arrive at the most specific and general hypotheses consistent with the examples."
      ],
      "metadata": {
        "id": "3ei_p297vQmA"
      }
    },
    {
      "cell_type": "markdown",
      "source": [
        "The candidate elimination algorithm does this by updating the general and specific boundary for each new example.\n",
        "\n",
        "* You can consider this as an extended form of the Find-S algorithm.\n",
        "* Consider both positive and negative examples.\n",
        "* Actually, positive examples are used here as the Find-S algorithm (Basically they are generalizing from the specification).\n",
        "* While the negative example is specified in the generalizing form."
      ],
      "metadata": {
        "id": "Rbqq4VKsvn9O"
      }
    },
    {
      "cell_type": "markdown",
      "source": [
        "**Terms Used:**\n",
        "\n",
        "* **Concept learning:** Concept learning is basically the learning task of the machine (Learn by Train data)\n",
        "\n",
        "* **General Hypothesis:** Not Specifying features to learn the machine.\n",
        "\n",
        "* G = {‘?’, ‘?’,’?’,’?’…}: Number of attributes\n",
        "\n",
        "* **Specific Hypothesis:** Specifying features to learn machine (Specific feature)\n",
        "\n",
        "* **S= {‘pi’,’pi’,’pi’…}:** The number of pi depends on a number of attributes.\n",
        "\n",
        "* **Version Space**: It is an intermediate of general hypothesis and Specific hypothesis. It not only just writes one hypothesis but a set of all possible hypotheses based on training data-set."
      ],
      "metadata": {
        "id": "4yzXG-LwwEBs"
      }
    },
    {
      "cell_type": "code",
      "source": [
        "import csv\n",
        "\n",
        "def g_0(n):\n",
        "    return (\"?\",) * n\n",
        "\n",
        "def s_0(n):\n",
        "    return ('0',) * n\n",
        "\n",
        "def more_general(h1, h2):\n",
        "    more_general_parts = []\n",
        "    for x, y in zip(h1, h2):\n",
        "        mg = x == \"?\" or (x != \"0\" and (x == y or y == \"0\"))\n",
        "        more_general_parts.append(mg)\n",
        "    return all(more_general_parts)\n"
      ],
      "metadata": {
        "id": "71iS2DTQ0gzq"
      },
      "execution_count": 19,
      "outputs": []
    },
    {
      "cell_type": "code",
      "source": [
        "def fulfills(example, hypothesis):\n",
        "    return more_general(hypothesis, example)\n",
        "\n",
        "def min_generalizations(h, x):\n",
        "    h_new = list(h)\n",
        "    for i in range(len(h)):\n",
        "        if not fulfills(x[i:i+1], h[i:i+1]):\n",
        "            h_new[i] = '?' if h[i] != '0' else x[i]\n",
        "    return [tuple(h_new)]"
      ],
      "metadata": {
        "id": "Tjs5yvKB0lge"
      },
      "execution_count": 20,
      "outputs": []
    },
    {
      "cell_type": "code",
      "source": [
        "def min_specializations(h, domains, x):\n",
        "    results = []\n",
        "    for i in range(len(h)):\n",
        "        if h[i] == \"?\":\n",
        "            for val in domains[i]:\n",
        "                if x[i] != val:\n",
        "                    h_new = h[:i] + (val,) + h[i+1:]\n",
        "                    results.append(h_new)\n",
        "        elif h[i] != \"0\":\n",
        "            h_new = h[:i] + ('0',) + h[i+1:]\n",
        "            results.append(h_new)\n",
        "    return results"
      ],
      "metadata": {
        "id": "ZGpwboOA0pwR"
      },
      "execution_count": 21,
      "outputs": []
    },
    {
      "cell_type": "code",
      "source": [
        "def get_domains(examples):\n",
        "    d = [set() for i in examples[0]]\n",
        "    for x in examples:\n",
        "        for i, xi in enumerate(x):\n",
        "            d[i].add(xi)\n",
        "    return [list(sorted(x)) for x in d]\n"
      ],
      "metadata": {
        "id": "Qz8W9mZy0yxB"
      },
      "execution_count": 22,
      "outputs": []
    },
    {
      "cell_type": "code",
      "source": [
        "def candidate_elimination(examples):\n",
        "    domains = get_domains(examples)[:-1]\n",
        "    G = set([g_0(len(domains))])\n",
        "    S = set([s_0(len(domains))])\n",
        "    i = 0\n",
        "    print(\"\\n G[{0}]:\".format(i), G)\n",
        "    print(\"\\n S[{0}]:\".format(i), S)\n",
        "    for xcx in examples:\n",
        "        i = i + 1\n",
        "        x, cx = xcx[:-1], xcx[-1]  # Splitting data into attributes and decisions\n",
        "        if cx == 'Y':  # x is positive example\n",
        "            G = {g for g in G if fulfills(x, g)}\n",
        "            S = generalize_S(x, G, S)\n",
        "        else:  # x is negative example\n",
        "            S = {s for s in S if not fulfills(x, s)}\n",
        "            G = specialize_G(x, domains, G, S)\n",
        "        print(\"\\n G[{0}]:\".format(i), G)\n",
        "        print(\"\\n S[{0}]:\".format(i), S)\n",
        "    print(\"\\nFinal General Hypothesis (G):\", G)\n",
        "    print(\"\\nFinal Specific Hypothesis (S):\", S)\n",
        "    return"
      ],
      "metadata": {
        "id": "iRVID-kc01t8"
      },
      "execution_count": 23,
      "outputs": []
    },
    {
      "cell_type": "code",
      "source": [
        "def generalize_S(x, G, S):\n",
        "    S_prev = list(S)\n",
        "    for s in S_prev:\n",
        "        if s not in S:\n",
        "            continue\n",
        "        if not fulfills(x, s):\n",
        "            S.remove(s)\n",
        "            Splus = min_generalizations(s, x)\n",
        "            # Keep only generalizations that have a counterpart in G\n",
        "            S.update([h for h in Splus if any([more_general(g, h) for g in G])])\n",
        "            # Remove hypotheses less specific than any other in S\n",
        "            S.difference_update([h for h in S if any([more_general(h, h1) for h1 in S if h != h1])])\n",
        "    return S\n",
        "\n"
      ],
      "metadata": {
        "id": "Mw0n58vmzzCe"
      },
      "execution_count": 24,
      "outputs": []
    },
    {
      "cell_type": "code",
      "source": [
        "def specialize_G(x, domains, G, S):\n",
        "    G_prev = list(G)\n",
        "    for g in G_prev:\n",
        "        if g not in G:\n",
        "            continue\n",
        "        if fulfills(x, g):\n",
        "            G.remove(g)\n",
        "            Gminus = min_specializations(g, domains, x)\n",
        "            # Keep only specializations that have a counterpart in S\n",
        "            G.update([h for h in Gminus if any([more_general(h, s) for s in S])])\n",
        "            # Remove hypotheses less general than any other in G\n",
        "            G.difference_update([h for h in G if any([more_general(g1, h) for g1 in G if h != g1])])\n",
        "    return G\n",
        "\n",
        "\n"
      ],
      "metadata": {
        "id": "Nx2n7N2V1AKR"
      },
      "execution_count": 25,
      "outputs": []
    },
    {
      "cell_type": "code",
      "source": [
        "# Load the examples from a CSV file\n",
        "with open('/content/Lab2.csv') as csvFile:\n",
        "    examples = [tuple(line) for line in csv.reader(csvFile)]\n",
        "\n",
        "# Examples for testing (uncomment and use instead of loading from a file)\n",
        "# examples = [\n",
        "#     ('sunny', 'warm', 'normal', 'strong', 'warm', 'same', 'Y'),\n",
        "#     ('sunny', 'warm', 'high', 'strong', 'warm', 'same', 'Y'),\n",
        "#     ('rainy', 'cold', 'high', 'strong', 'warm', 'change', 'N'),\n",
        "#     ('sunny', 'warm', 'high', 'strong', 'cool', 'change', 'Y')\n",
        "# ]\n",
        "\n",
        "# Run the candidate elimination algorithm\n",
        "candidate_elimination(examples)"
      ],
      "metadata": {
        "colab": {
          "base_uri": "https://localhost:8080/",
          "height": 454
        },
        "id": "M4CCJdNt1HM_",
        "outputId": "90a4d86d-5287-4f87-f998-46acdfef60ce"
      },
      "execution_count": 27,
      "outputs": [
        {
          "output_type": "error",
          "ename": "FileNotFoundError",
          "evalue": "[Errno 2] No such file or directory: '/content/Lab2.csv'",
          "traceback": [
            "\u001b[0;31m---------------------------------------------------------------------------\u001b[0m",
            "\u001b[0;31mFileNotFoundError\u001b[0m                         Traceback (most recent call last)",
            "\u001b[0;32m<ipython-input-27-e99a9cc1d62a>\u001b[0m in \u001b[0;36m<cell line: 2>\u001b[0;34m()\u001b[0m\n\u001b[1;32m      1\u001b[0m \u001b[0;31m# Load the examples from a CSV file\u001b[0m\u001b[0;34m\u001b[0m\u001b[0;34m\u001b[0m\u001b[0m\n\u001b[0;32m----> 2\u001b[0;31m \u001b[0;32mwith\u001b[0m \u001b[0mopen\u001b[0m\u001b[0;34m(\u001b[0m\u001b[0;34m'/content/Lab2.csv'\u001b[0m\u001b[0;34m)\u001b[0m \u001b[0;32mas\u001b[0m \u001b[0mcsvFile\u001b[0m\u001b[0;34m:\u001b[0m\u001b[0;34m\u001b[0m\u001b[0;34m\u001b[0m\u001b[0m\n\u001b[0m\u001b[1;32m      3\u001b[0m     \u001b[0mexamples\u001b[0m \u001b[0;34m=\u001b[0m \u001b[0;34m[\u001b[0m\u001b[0mtuple\u001b[0m\u001b[0;34m(\u001b[0m\u001b[0mline\u001b[0m\u001b[0;34m)\u001b[0m \u001b[0;32mfor\u001b[0m \u001b[0mline\u001b[0m \u001b[0;32min\u001b[0m \u001b[0mcsv\u001b[0m\u001b[0;34m.\u001b[0m\u001b[0mreader\u001b[0m\u001b[0;34m(\u001b[0m\u001b[0mcsvFile\u001b[0m\u001b[0;34m)\u001b[0m\u001b[0;34m]\u001b[0m\u001b[0;34m\u001b[0m\u001b[0;34m\u001b[0m\u001b[0m\n\u001b[1;32m      4\u001b[0m \u001b[0;34m\u001b[0m\u001b[0m\n\u001b[1;32m      5\u001b[0m \u001b[0;31m# Examples for testing (uncomment and use instead of loading from a file)\u001b[0m\u001b[0;34m\u001b[0m\u001b[0;34m\u001b[0m\u001b[0m\n",
            "\u001b[0;31mFileNotFoundError\u001b[0m: [Errno 2] No such file or directory: '/content/Lab2.csv'"
          ]
        }
      ]
    }
  ]
}